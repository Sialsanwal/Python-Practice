{
 "cells": [
  {
   "cell_type": "code",
   "execution_count": 1,
   "id": "90c1436e",
   "metadata": {},
   "outputs": [
    {
     "name": "stdout",
     "output_type": "stream",
     "text": [
      "The Toyata Camery Engine is Running!\n"
     ]
    }
   ],
   "source": [
    "class Car:\n",
    "    def __init__(self,make,model):\n",
    "        self.make=make\n",
    "        self.model=model\n",
    "    def start_engine(self):\n",
    "        print(f\"The {self.make} {self.model} Engine is Running!\")\n",
    "my_car=Car(\"Toyata\",\"Camery\")\n",
    "my_car.start_engine()"
   ]
  },
  {
   "cell_type": "markdown",
   "id": "9499f1e9",
   "metadata": {},
   "source": [
    "# Inheritance"
   ]
  },
  {
   "cell_type": "code",
   "execution_count": 2,
   "id": "e0e5d66b",
   "metadata": {},
   "outputs": [
    {
     "name": "stdout",
     "output_type": "stream",
     "text": [
      "Tesla Model S has a 75 kwH battery\n"
     ]
    }
   ],
   "source": [
    "class ElectricCar(Car):\n",
    "    def __init__(self,make,model,battery_capcity):\n",
    "        super().__init__(make,model)\n",
    "        self.battery_capcity=battery_capcity\n",
    "    def describe(self):\n",
    "        print(f\"{self.make} {self.model} has a {self.battery_capcity} kwH battery\")\n",
    "my_electric_car = ElectricCar(\"Tesla\", \"Model S\", 75)\n",
    "my_electric_car.describe()"
   ]
  },
  {
   "cell_type": "code",
   "execution_count": 9,
   "id": "9aac1fae",
   "metadata": {},
   "outputs": [],
   "source": [
    "class Employee:\n",
    "    def __init__(self,name,employee_id,salary):\n",
    "        self.name=name\n",
    "        self.employee_id=employee_id\n",
    "        self.salary=salary\n",
    "    def describe(self):\n",
    "        print(f\"Employee {self.name} ID: {self.employee_id} Earn {self.salary} PKR\")\n",
    "    def calculate_bounce(self):\n",
    "        return self.salary*0.1\n",
    "\n",
    "\n",
    "class Manager(Employee):\n",
    "    def __init__(self,name,employee_id,salary,team_size):\n",
    "        super().__init__(name,employee_id,salary)\n",
    "        self.team_size=team_size\n",
    "    def describe(self):\n",
    "        super().describe()\n",
    "        print(f\"Size of team is {self.team_size}\")\n",
    "    def manager_bounce(self):\n",
    "        base=super().calculate_bounce()\n",
    "        team_bouncs=self.team_size*10\n",
    "        return base+team_bouncs"
   ]
  },
  {
   "cell_type": "code",
   "execution_count": 10,
   "id": "d63c077b",
   "metadata": {},
   "outputs": [
    {
     "name": "stdout",
     "output_type": "stream",
     "text": [
      "Employee Sanwal ID: 123 Earn 35000 PKR\n"
     ]
    },
    {
     "data": {
      "text/plain": [
       "3500.0"
      ]
     },
     "execution_count": 10,
     "metadata": {},
     "output_type": "execute_result"
    }
   ],
   "source": [
    "emp1=Employee(\"Sanwal\",123,35000)\n",
    "emp1.describe()\n",
    "emp1.calculate_bounce()"
   ]
  },
  {
   "cell_type": "code",
   "execution_count": null,
   "id": "8f8ce3f5",
   "metadata": {},
   "outputs": [],
   "source": [
    "mang=Manager(\"Sanwal\",1234,35000,3)\n",
    "print(mang.describe())\n",
    "print(mang.)"
   ]
  }
 ],
 "metadata": {
  "kernelspec": {
   "display_name": "Python 3 (ipykernel)",
   "language": "python",
   "name": "python3"
  },
  "language_info": {
   "codemirror_mode": {
    "name": "ipython",
    "version": 3
   },
   "file_extension": ".py",
   "mimetype": "text/x-python",
   "name": "python",
   "nbconvert_exporter": "python",
   "pygments_lexer": "ipython3",
   "version": "3.9.13"
  }
 },
 "nbformat": 4,
 "nbformat_minor": 5
}
