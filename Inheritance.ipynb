{
 "cells": [
  {
   "cell_type": "code",
   "execution_count": 1,
   "id": "03f5406d",
   "metadata": {},
   "outputs": [
    {
     "name": "stdout",
     "output_type": "stream",
     "text": [
      "The Toyata Camery Engine is Running!\n"
     ]
    }
   ],
   "source": [
    "class Car:\n",
    "    def __init__(self,make,model):\n",
    "        self.make=make\n",
    "        self.model=model\n",
    "    def start_engine(self):\n",
    "        print(f\"The {self.make} {self.model} Engine is Running!\")\n",
    "my_car=Car(\"Toyata\",\"Camery\")\n",
    "my_car.start_engine()"
   ]
  },
  {
   "cell_type": "markdown",
   "id": "f17b1749",
   "metadata": {},
   "source": [
    "# Inheritance"
   ]
  },
  {
   "cell_type": "code",
   "execution_count": 2,
   "id": "be7e37d2",
   "metadata": {},
   "outputs": [
    {
     "name": "stdout",
     "output_type": "stream",
     "text": [
      "Tesla Model S has a 75 kwH battery\n"
     ]
    }
   ],
   "source": [
    "class ElectricCar(Car):\n",
    "    def __init__(self,make,model,battery_capcity):\n",
    "        super().__init__(make,model)\n",
    "        self.battery_capcity=battery_capcity\n",
    "    def describe(self):\n",
    "        print(f\"{self.make} {self.model} has a {self.battery_capcity} kwH battery\")\n",
    "my_electric_car = ElectricCar(\"Tesla\", \"Model S\", 75)\n",
    "my_electric_car.describe()"
   ]
  },
  {
   "cell_type": "code",
   "execution_count": 9,
   "id": "01bec7f0",
   "metadata": {},
   "outputs": [],
   "source": [
    "class Employee:\n",
    "    def __init__(self,name,employee_id,salary):\n",
    "        self.name=name\n",
    "        self.employee_id=employee_id\n",
    "        self.salary=salary\n",
    "    def describe(self):\n",
    "        print(f\"Employee {self.name} ID: {self.employee_id} Earn {self.salary} PKR\")\n",
    "    def calculate_bounce(self):\n",
    "        return self.salary*0.1\n",
    "\n",
    "\n",
    "class Manager(Employee):\n",
    "    def __init__(self,name,employee_id,salary,team_size):\n",
    "        super().__init__(name,employee_id,salary)\n",
    "        self.team_size=team_size\n",
    "    def describe(self):\n",
    "        super().describe()\n",
    "        print(f\"Size of team is {self.team_size}\")\n",
    "    def manager_bounce(self):\n",
    "        base=super().calculate_bounce()\n",
    "        team_bouncs=self.team_size*10\n",
    "        return base+team_bouncs"
   ]
  },
  {
   "cell_type": "code",
   "execution_count": 10,
   "id": "cd43138a",
   "metadata": {},
   "outputs": [
    {
     "name": "stdout",
     "output_type": "stream",
     "text": [
      "Employee Sanwal ID: 123 Earn 35000 PKR\n"
     ]
    },
    {
     "data": {
      "text/plain": [
       "3500.0"
      ]
     },
     "execution_count": 10,
     "metadata": {},
     "output_type": "execute_result"
    }
   ],
   "source": [
    "emp1=Employee(\"Sanwal\",123,35000)\n",
    "emp1.describe()\n",
    "emp1.calculate_bounce()"
   ]
  },
  {
   "cell_type": "code",
   "execution_count": 11,
   "id": "b122397a",
   "metadata": {},
   "outputs": [
    {
     "name": "stdout",
     "output_type": "stream",
     "text": [
      "Employee Sanwal ID: 1234 Earn 35000 PKR\n",
      "Size of team is 3\n",
      "None\n",
      "3530.0\n"
     ]
    }
   ],
   "source": [
    "mang=Manager(\"Sanwal\",1234,35000,3)\n",
    "print(mang.describe())\n",
    "print(mang.manager_bounce())"
   ]
  },
  {
   "cell_type": "code",
   "execution_count": 24,
   "id": "6f4f5f5a",
   "metadata": {},
   "outputs": [],
   "source": [
    "class Area:\n",
    "    def __init__(self,length,width):\n",
    "        self.length=length\n",
    "        self.width=width\n",
    "    def square(self):\n",
    "        return self.length*self.width"
   ]
  },
  {
   "cell_type": "code",
   "execution_count": 25,
   "id": "fc199c01",
   "metadata": {},
   "outputs": [],
   "source": [
    "class Volume(Area):\n",
    "    def __init__(self,length,width,height):\n",
    "        \n",
    "        super().__init__(length,width)\n",
    "        self.height=height\n",
    "    \n",
    "    def height(self):\n",
    "        sqr=super().square()\n",
    "        return sqr*height"
   ]
  },
  {
   "cell_type": "code",
   "execution_count": 26,
   "id": "7bd3a19a",
   "metadata": {},
   "outputs": [
    {
     "data": {
      "text/plain": [
       "4"
      ]
     },
     "execution_count": 26,
     "metadata": {},
     "output_type": "execute_result"
    }
   ],
   "source": [
    "v=volume(2,3,4)\n",
    "v.height"
   ]
  },
  {
   "cell_type": "code",
   "execution_count": 8,
   "id": "6b3e7e2d",
   "metadata": {},
   "outputs": [],
   "source": [
    "def Info():\n",
    "    name=input(\"Enter the name:\")\n",
    "    age=int(input(\"Enter the age:\"))\n",
    "    "
   ]
  },
  {
   "cell_type": "code",
   "execution_count": 9,
   "id": "2bd2cdeb",
   "metadata": {},
   "outputs": [
    {
     "name": "stdout",
     "output_type": "stream",
     "text": [
      "\n"
     ]
    },
    {
     "ename": "ValueError",
     "evalue": "invalid literal for int() with base 10: ''",
     "output_type": "error",
     "traceback": [
      "\u001b[1;31m---------------------------------------------------------------------------\u001b[0m",
      "\u001b[1;31mValueError\u001b[0m                                Traceback (most recent call last)",
      "\u001b[1;32m~\\AppData\\Local\\Temp\\ipykernel_15284\\4025546921.py\u001b[0m in \u001b[0;36m<module>\u001b[1;34m\u001b[0m\n\u001b[1;32m----> 1\u001b[1;33m \u001b[0mint\u001b[0m\u001b[1;33m(\u001b[0m\u001b[0minput\u001b[0m\u001b[1;33m(\u001b[0m\u001b[1;33m)\u001b[0m\u001b[1;33m)\u001b[0m\u001b[1;33m\u001b[0m\u001b[1;33m\u001b[0m\u001b[0m\n\u001b[0m",
      "\u001b[1;31mValueError\u001b[0m: invalid literal for int() with base 10: ''"
     ]
    }
   ],
   "source": [
    "Info"
   ]
  },
  {
   "cell_type": "code",
   "execution_count": 11,
   "id": "073cd1ed",
   "metadata": {},
   "outputs": [
    {
     "name": "stdout",
     "output_type": "stream",
     "text": [
      "Enter the name:sawa\n",
      "Enter the age:12\n"
     ]
    }
   ],
   "source": [
    "Info()"
   ]
  },
  {
   "cell_type": "code",
   "execution_count": null,
   "id": "5c5580b7",
   "metadata": {},
   "outputs": [],
   "source": []
  }
 ],
 "metadata": {
  "kernelspec": {
   "display_name": "Python 3 (ipykernel)",
   "language": "python",
   "name": "python3"
  },
  "language_info": {
   "codemirror_mode": {
    "name": "ipython",
    "version": 3
   },
   "file_extension": ".py",
   "mimetype": "text/x-python",
   "name": "python",
   "nbconvert_exporter": "python",
   "pygments_lexer": "ipython3",
   "version": "3.9.13"
  }
 },
 "nbformat": 4,
 "nbformat_minor": 5
}
