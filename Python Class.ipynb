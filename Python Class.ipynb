{
 "cells": [
  {
   "cell_type": "code",
   "execution_count": 1,
   "id": "22ad7752",
   "metadata": {},
   "outputs": [],
   "source": []
  },
  {
   "cell_type": "code",
   "execution_count": 5,
   "id": "32ef62fc",
   "metadata": {},
   "outputs": [],
   "source": [
    "class Person:\n",
    "  def __init__(self, name, age):\n",
    "    self.name = name\n",
    "    self.age = age\n",
    "\n"
   ]
  },
  {
   "cell_type": "code",
   "execution_count": 6,
   "id": "d7afc789",
   "metadata": {},
   "outputs": [
    {
     "name": "stdout",
     "output_type": "stream",
     "text": [
      "John\n",
      "36\n"
     ]
    }
   ],
   "source": [
    "p1 = Person(\"John\", 36)\n",
    "\n",
    "print(p1.name)\n",
    "print(p1.age)"
   ]
  },
  {
   "cell_type": "code",
   "execution_count": 7,
   "id": "c23c4f55",
   "metadata": {},
   "outputs": [],
   "source": [
    "class Car:\n",
    "    def __init__(self,name,model,engineType):\n",
    "        self.name=name\n",
    "        self.model=model\n",
    "        self.engineType=engineType"
   ]
  },
  {
   "cell_type": "code",
   "execution_count": 9,
   "id": "3a8e2535",
   "metadata": {},
   "outputs": [],
   "source": [
    "car1=Car(\"Suzuki\",2022,\"Petrol\")"
   ]
  },
  {
   "cell_type": "code",
   "execution_count": 10,
   "id": "4991a13c",
   "metadata": {},
   "outputs": [
    {
     "data": {
      "text/plain": [
       "'Petrol'"
      ]
     },
     "execution_count": 10,
     "metadata": {},
     "output_type": "execute_result"
    }
   ],
   "source": [
    "car1.engineType"
   ]
  },
  {
   "cell_type": "code",
   "execution_count": 11,
   "id": "5da60184",
   "metadata": {},
   "outputs": [
    {
     "data": {
      "text/plain": [
       "2022"
      ]
     },
     "execution_count": 11,
     "metadata": {},
     "output_type": "execute_result"
    }
   ],
   "source": [
    "car1.model"
   ]
  },
  {
   "cell_type": "code",
   "execution_count": 12,
   "id": "64821b1d",
   "metadata": {},
   "outputs": [
    {
     "data": {
      "text/plain": [
       "'Suzuki'"
      ]
     },
     "execution_count": 12,
     "metadata": {},
     "output_type": "execute_result"
    }
   ],
   "source": [
    "car1.name"
   ]
  },
  {
   "cell_type": "code",
   "execution_count": 13,
   "id": "aa91af90",
   "metadata": {},
   "outputs": [
    {
     "name": "stdout",
     "output_type": "stream",
     "text": [
      "John(36)\n"
     ]
    }
   ],
   "source": [
    "class Person:\n",
    "  def __init__(self, name, age):\n",
    "    self.name = name\n",
    "    self.age = age\n",
    "\n",
    "  def __str__(self):\n",
    "    return f\"{self.name}({self.age})\"\n",
    "\n",
    "p1 = Person(\"John\", 36)\n",
    "\n",
    "print(p1)"
   ]
  },
  {
   "cell_type": "code",
   "execution_count": 16,
   "id": "59492b5a",
   "metadata": {},
   "outputs": [],
   "source": [
    "class Person:\n",
    "  def __init__(self, name, age):\n",
    "    self.name = name\n",
    "    self.age = age\n",
    "\n",
    "  def myfunc(self):\n",
    "    print(\"Hello my name is \" + self.name)\n",
    "\n",
    "p1 = Person(\"John\", 36)\n",
    "#p1.myfunc()\n"
   ]
  },
  {
   "cell_type": "code",
   "execution_count": 23,
   "id": "a9b5eac0",
   "metadata": {},
   "outputs": [],
   "source": [
    "class Person:\n",
    "  def __init__(self, name, age):\n",
    "    self.name = name\n",
    "    self.age = age\n",
    "\n",
    "  def myfunc(self):\n",
    "    print(\"Hello my name is \" + self.name + \"my age is \"+ str(self.age))\n",
    "\n",
    "p1 = Person(\"John\", 36)"
   ]
  },
  {
   "cell_type": "code",
   "execution_count": 24,
   "id": "7af92158",
   "metadata": {},
   "outputs": [
    {
     "name": "stdout",
     "output_type": "stream",
     "text": [
      "Hello my name is Johnmy age is 36\n"
     ]
    }
   ],
   "source": [
    "p1.myfunc()"
   ]
  },
  {
   "cell_type": "code",
   "execution_count": 34,
   "id": "4df2b886",
   "metadata": {},
   "outputs": [],
   "source": [
    "class Mobile():\n",
    "    def __init__(mobile, name,ram,rom,camera,battery):\n",
    "        mobile.name=name\n",
    "        mobile.ram=ram\n",
    "        mobile.rom=rom\n",
    "        mobile.camera=camera\n",
    "        mobile.battery=battery\n",
    "    def myFunc(mobile):\n",
    "        print(\"your mobile ram is \"+ mobile.ram)"
   ]
  },
  {
   "cell_type": "code",
   "execution_count": 35,
   "id": "5c5119ef",
   "metadata": {},
   "outputs": [],
   "source": [
    "m1=Mobile(\"Samsung\",\"4GB\",\"128GB\",\"48M\",\"6000mah\")"
   ]
  },
  {
   "cell_type": "code",
   "execution_count": 39,
   "id": "f24a8dc7",
   "metadata": {},
   "outputs": [
    {
     "name": "stdout",
     "output_type": "stream",
     "text": [
      "your mobile ram is 8gb\n"
     ]
    }
   ],
   "source": [
    "m1.myFunc()"
   ]
  },
  {
   "cell_type": "code",
   "execution_count": 37,
   "id": "4c9029fa",
   "metadata": {},
   "outputs": [
    {
     "data": {
      "text/plain": [
       "'4GB'"
      ]
     },
     "execution_count": 37,
     "metadata": {},
     "output_type": "execute_result"
    }
   ],
   "source": [
    "m1.ram"
   ]
  },
  {
   "cell_type": "code",
   "execution_count": 38,
   "id": "04305eac",
   "metadata": {},
   "outputs": [],
   "source": [
    "m1.ram=\"8gb\""
   ]
  },
  {
   "cell_type": "code",
   "execution_count": 40,
   "id": "c8219434",
   "metadata": {},
   "outputs": [],
   "source": [
    "del m1.ram"
   ]
  },
  {
   "cell_type": "code",
   "execution_count": 42,
   "id": "bd4296a2",
   "metadata": {},
   "outputs": [
    {
     "ename": "AttributeError",
     "evalue": "'Mobile' object has no attribute 'ram'",
     "output_type": "error",
     "traceback": [
      "\u001b[1;31m---------------------------------------------------------------------------\u001b[0m",
      "\u001b[1;31mAttributeError\u001b[0m                            Traceback (most recent call last)",
      "\u001b[1;32m~\\AppData\\Local\\Temp\\ipykernel_14004\\1034707338.py\u001b[0m in \u001b[0;36m<module>\u001b[1;34m\u001b[0m\n\u001b[1;32m----> 1\u001b[1;33m \u001b[0mm1\u001b[0m\u001b[1;33m.\u001b[0m\u001b[0mmyFunc\u001b[0m\u001b[1;33m(\u001b[0m\u001b[1;33m)\u001b[0m\u001b[1;33m\u001b[0m\u001b[1;33m\u001b[0m\u001b[0m\n\u001b[0m",
      "\u001b[1;32m~\\AppData\\Local\\Temp\\ipykernel_14004\\3470114831.py\u001b[0m in \u001b[0;36mmyFunc\u001b[1;34m(mobile)\u001b[0m\n\u001b[0;32m      7\u001b[0m         \u001b[0mmobile\u001b[0m\u001b[1;33m.\u001b[0m\u001b[0mbattery\u001b[0m\u001b[1;33m=\u001b[0m\u001b[0mbattery\u001b[0m\u001b[1;33m\u001b[0m\u001b[1;33m\u001b[0m\u001b[0m\n\u001b[0;32m      8\u001b[0m     \u001b[1;32mdef\u001b[0m \u001b[0mmyFunc\u001b[0m\u001b[1;33m(\u001b[0m\u001b[0mmobile\u001b[0m\u001b[1;33m)\u001b[0m\u001b[1;33m:\u001b[0m\u001b[1;33m\u001b[0m\u001b[1;33m\u001b[0m\u001b[0m\n\u001b[1;32m----> 9\u001b[1;33m         \u001b[0mprint\u001b[0m\u001b[1;33m(\u001b[0m\u001b[1;34m\"your mobile ram is \"\u001b[0m\u001b[1;33m+\u001b[0m \u001b[0mmobile\u001b[0m\u001b[1;33m.\u001b[0m\u001b[0mram\u001b[0m\u001b[1;33m)\u001b[0m\u001b[1;33m\u001b[0m\u001b[1;33m\u001b[0m\u001b[0m\n\u001b[0m",
      "\u001b[1;31mAttributeError\u001b[0m: 'Mobile' object has no attribute 'ram'"
     ]
    }
   ],
   "source": [
    "m1.myFunc()"
   ]
  },
  {
   "cell_type": "code",
   "execution_count": 43,
   "id": "9a509c0f",
   "metadata": {},
   "outputs": [
    {
     "name": "stdout",
     "output_type": "stream",
     "text": [
      "Hi, I'm Alice, 28 years old, from New York.\n",
      "Hi, I'm Bob, 35 years old, from San Francisco.\n",
      "Happy birthday to Alice! They are now 29 years old.\n",
      "Happy birthday to Bob! They are now 36 years old.\n"
     ]
    }
   ],
   "source": [
    "class Person:\n",
    "    def __init__(self, name, age, location):\n",
    "        self.name = name\n",
    "        self.age = age\n",
    "        self.location = location\n",
    "\n",
    "    def introduce(self):\n",
    "        print(f\"Hi, I'm {self.name}, {self.age} years old, from {self.location}.\")\n",
    "\n",
    "    def celebrate_birthday(self):\n",
    "        self.age += 1\n",
    "        print(f\"Happy birthday to {self.name}! They are now {self.age} years old.\")\n",
    "\n",
    "# Creating instances of the Person class\n",
    "person1 = Person(\"Alice\", 28, \"New York\")\n",
    "person2 = Person(\"Bob\", 35, \"San Francisco\")\n",
    "\n",
    "# Introducing themselves\n",
    "person1.introduce()\n",
    "person2.introduce()\n",
    "\n",
    "# Celebrating birthdays\n",
    "person1.celebrate_birthday()\n",
    "person2.celebrate_birthday()\n"
   ]
  },
  {
   "cell_type": "code",
   "execution_count": 44,
   "id": "40574d56",
   "metadata": {},
   "outputs": [],
   "source": [
    "class Person:\n",
    "    def __init__(self,name,age,location):\n",
    "        self.name=name\n",
    "        self.age=age\n",
    "        self.location=location\n",
    "    def intoduced(self):\n",
    "        print(f\" Hi, I'm {self.name} , I'am {self.age} years old and from {self.location}\")"
   ]
  },
  {
   "cell_type": "code",
   "execution_count": 45,
   "id": "08c69b52",
   "metadata": {},
   "outputs": [],
   "source": [
    "person1=Person(\"Sanwal\",23,\"Faisalabad\")"
   ]
  },
  {
   "cell_type": "code",
   "execution_count": 46,
   "id": "1142f416",
   "metadata": {},
   "outputs": [
    {
     "name": "stdout",
     "output_type": "stream",
     "text": [
      " Hi, I'm Sanwal , I'am 23 years old and from Faisalabad\n"
     ]
    }
   ],
   "source": [
    "person1.intoduced()"
   ]
  },
  {
   "cell_type": "code",
   "execution_count": 73,
   "id": "d4d6e2de",
   "metadata": {},
   "outputs": [],
   "source": [
    "class Bank:\n",
    "    def __init__(self,account_num,account_holder,balance=0):\n",
    "        self.account_num=account_num\n",
    "        self.account_holder=account_holder\n",
    "        self.balance=balance\n",
    "\n",
    "    def deposit(self,amount):\n",
    "        self.balance +=amount\n",
    "        print(f\"Deposit amount is {amount} and New balance is {self.balance}\")\n",
    "    def withdraw(self,amount):\n",
    "        if amount<=self.balance:\n",
    "            self.balance -=amount\n",
    "            print(f\"Withdraw amount is {amount} and new balance is {self.balance}\")\n",
    "        else:\n",
    "            print(\"Insufficient funds.\")\n",
    "    def check_balance(self):\n",
    "            return self.balance\n"
   ]
  },
  {
   "cell_type": "code",
   "execution_count": 74,
   "id": "d316a8ce",
   "metadata": {},
   "outputs": [],
   "source": [
    "cus1=Bank(1234,\"Sanwal\")"
   ]
  },
  {
   "cell_type": "code",
   "execution_count": 75,
   "id": "67fdc751",
   "metadata": {},
   "outputs": [
    {
     "name": "stdout",
     "output_type": "stream",
     "text": [
      "Deposit amount is 2000 and New balance is 2000\n"
     ]
    }
   ],
   "source": [
    "cus1.deposit(2000)"
   ]
  },
  {
   "cell_type": "code",
   "execution_count": 76,
   "id": "ba17e5c0",
   "metadata": {},
   "outputs": [
    {
     "name": "stdout",
     "output_type": "stream",
     "text": [
      "Withdraw amount is 500 and new balance is 1500\n"
     ]
    }
   ],
   "source": [
    "cus1.withdraw(500)"
   ]
  },
  {
   "cell_type": "code",
   "execution_count": 78,
   "id": "e9ed1afa",
   "metadata": {},
   "outputs": [
    {
     "data": {
      "text/plain": [
       "1500"
      ]
     },
     "execution_count": 78,
     "metadata": {},
     "output_type": "execute_result"
    }
   ],
   "source": [
    "cus1.check_balance()"
   ]
  },
  {
   "cell_type": "code",
   "execution_count": 79,
   "id": "40c3b395",
   "metadata": {},
   "outputs": [],
   "source": [
    "class Health:\n",
    "    def __init__(self,name,age,gender,diabaties,blood):\n",
    "        self.name=name\n",
    "        self.age=age\n",
    "        self.gender=gender\n",
    "        self.diabaties=diabaties\n",
    "        self.blood=blood\n",
    "    "
   ]
  },
  {
   "cell_type": "code",
   "execution_count": 80,
   "id": "d45a64c5",
   "metadata": {},
   "outputs": [
    {
     "data": {
      "text/plain": [
       "'\"Define the attributes for accounts, customers, transactions, and loans.\\nConsider methods for depositing, withdrawing, and calculating interest.\\n'"
      ]
     },
     "execution_count": 80,
     "metadata": {},
     "output_type": "execute_result"
    }
   ],
   "source": [
    "\"\"\"\"Define the attributes for accounts, customers, transactions, and loans.\n",
    "Consider methods for depositing, withdrawing, and calculating interest.\n",
    "\"\"\""
   ]
  },
  {
   "cell_type": "code",
   "execution_count": 121,
   "id": "d4963972",
   "metadata": {},
   "outputs": [],
   "source": [
    "class Bank():\n",
    "    def __init__(self,account_num,name,balance=0):\n",
    "        self.account_num=account_num\n",
    "        self.name=name\n",
    "        self.balance=balance\n",
    "    def deposit(self,amount):\n",
    "        self.balance+=amount\n",
    "        print(f\"Your Balanced is {self.balance}!\")\n",
    "        print(f\"Thanks for deposit Dear {self.name}\")\n",
    "    def withDraw(self,amount):\n",
    "        if amount<=self.balance:\n",
    "            self.balance-=amount\n",
    "            print(f\"your withdraw amount is {amount} and remaining balance is {self.balance}\")\n",
    "    def loan(self,amount):\n",
    "        if amount<=self.balance:\n",
    "            interest=amount*.2\n",
    "            print(f\"your loan amount is {amount} and interest on loan is {interest}\")\n",
    "        else:\n",
    "            print(f\"Please request loan to amount that present in your accoun.\\nYour balance is {self.balance}\")\n",
    "    def balance():\n",
    "        return self.balance"
   ]
  },
  {
   "cell_type": "code",
   "execution_count": 112,
   "id": "e17117de",
   "metadata": {},
   "outputs": [],
   "source": [
    "person=Bank(1234,\"Sanwal\")"
   ]
  },
  {
   "cell_type": "code",
   "execution_count": 113,
   "id": "dd050984",
   "metadata": {},
   "outputs": [
    {
     "name": "stdout",
     "output_type": "stream",
     "text": [
      "Your Balanced is 20000!\n"
     ]
    }
   ],
   "source": [
    "person.deposit(20000)"
   ]
  },
  {
   "cell_type": "code",
   "execution_count": 114,
   "id": "ffdce734",
   "metadata": {},
   "outputs": [
    {
     "name": "stdout",
     "output_type": "stream",
     "text": [
      "your withdraw amount is 1000 and remaining balance is 19000\n"
     ]
    }
   ],
   "source": [
    "person.withDraw(1000)"
   ]
  },
  {
   "cell_type": "code",
   "execution_count": 115,
   "id": "95b9eb29",
   "metadata": {},
   "outputs": [
    {
     "name": "stdout",
     "output_type": "stream",
     "text": [
      "Please request loan to amount that present in your accoun.\n",
      "Your balance is 19000\n"
     ]
    }
   ],
   "source": [
    "person.loan(23000)"
   ]
  },
  {
   "cell_type": "code",
   "execution_count": 116,
   "id": "01d4fb63",
   "metadata": {},
   "outputs": [
    {
     "data": {
      "text/plain": [
       "19000"
      ]
     },
     "execution_count": 116,
     "metadata": {},
     "output_type": "execute_result"
    }
   ],
   "source": [
    "person.balance"
   ]
  },
  {
   "cell_type": "code",
   "execution_count": 122,
   "id": "e4a210c2",
   "metadata": {},
   "outputs": [],
   "source": [
    "person2=Bank(2222,\"Ahmad\")"
   ]
  },
  {
   "cell_type": "code",
   "execution_count": 123,
   "id": "04af78c0",
   "metadata": {},
   "outputs": [
    {
     "name": "stdout",
     "output_type": "stream",
     "text": [
      "Your Balanced is 27500!\n",
      "Thanks for deposit Dear Ahmad\n"
     ]
    }
   ],
   "source": [
    "person2.deposit(27500)"
   ]
  },
  {
   "cell_type": "code",
   "execution_count": 124,
   "id": "f6c689cb",
   "metadata": {},
   "outputs": [
    {
     "name": "stdout",
     "output_type": "stream",
     "text": [
      "your withdraw amount is 200 and remaining balance is 27300\n"
     ]
    }
   ],
   "source": [
    "person2.withDraw(200)"
   ]
  },
  {
   "cell_type": "code",
   "execution_count": 125,
   "id": "e5105000",
   "metadata": {},
   "outputs": [
    {
     "name": "stdout",
     "output_type": "stream",
     "text": [
      "Please request loan to amount that present in your accoun.\n",
      "Your balance is 27300\n"
     ]
    }
   ],
   "source": [
    "person2.loan(27800)"
   ]
  },
  {
   "cell_type": "code",
   "execution_count": 12,
   "id": "7ff53d40",
   "metadata": {},
   "outputs": [
    {
     "ename": "SyntaxError",
     "evalue": "EOL while scanning string literal (2329547515.py, line 9)",
     "output_type": "error",
     "traceback": [
      "\u001b[1;36m  File \u001b[1;32m\"C:\\Users\\hp\\AppData\\Local\\Temp\\ipykernel_3192\\2329547515.py\"\u001b[1;36m, line \u001b[1;32m9\u001b[0m\n\u001b[1;33m    print(f\"Hi, {self.name} \\nRam is {self.ram} \\nRom is {self.rom}\u001b[0m\n\u001b[1;37m                                                                   ^\u001b[0m\n\u001b[1;31mSyntaxError\u001b[0m\u001b[1;31m:\u001b[0m EOL while scanning string literal\n"
     ]
    }
   ],
   "source": [
    "class Laptop:\n",
    "    def __init__(self,name,gen,ram,hard,core):\n",
    "        self.name=name\n",
    "        self.gen=gen\n",
    "        self.ram=ram\n",
    "        self.hard=hard\n",
    "        self.core=core\n",
    "    def func(self):\n",
    "        print(f\"Hi, {self.name} \\nRam is {self.ram} \\nRom is {self.rom}\n",
    "        \\nHard is {self.hard} \\nCore is {self.core} \")"
   ]
  },
  {
   "cell_type": "code",
   "execution_count": 11,
   "id": "a25a1a16",
   "metadata": {},
   "outputs": [
    {
     "name": "stdout",
     "output_type": "stream",
     "text": [
      "Hi, Sanwal \n",
      "Ram is 8GB\n"
     ]
    }
   ],
   "source": [
    "a=Laptop(\"Sanwal\",\"6th\",\"8GB\",\"256SSD\",\"i5\")\n",
    "a.func()"
   ]
  },
  {
   "cell_type": "code",
   "execution_count": null,
   "id": "1d42d153",
   "metadata": {},
   "outputs": [],
   "source": []
  },
  {
   "cell_type": "code",
   "execution_count": null,
   "id": "ba957d6a",
   "metadata": {},
   "outputs": [],
   "source": []
  }
 ],
 "metadata": {
  "kernelspec": {
   "display_name": "Python 3 (ipykernel)",
   "language": "python",
   "name": "python3"
  },
  "language_info": {
   "codemirror_mode": {
    "name": "ipython",
    "version": 3
   },
   "file_extension": ".py",
   "mimetype": "text/x-python",
   "name": "python",
   "nbconvert_exporter": "python",
   "pygments_lexer": "ipython3",
   "version": "3.9.13"
  }
 },
 "nbformat": 4,
 "nbformat_minor": 5
}
