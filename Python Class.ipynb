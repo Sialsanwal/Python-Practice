{
 "cells": [
  {
   "cell_type": "code",
   "execution_count": 1,
   "id": "94552559",
   "metadata": {},
   "outputs": [],
   "source": []
  },
  {
   "cell_type": "code",
   "execution_count": 5,
   "id": "85f44b2d",
   "metadata": {},
   "outputs": [],
   "source": [
    "class Person:\n",
    "  def __init__(self, name, age):\n",
    "    self.name = name\n",
    "    self.age = age\n",
    "\n"
   ]
  },
  {
   "cell_type": "code",
   "execution_count": 6,
   "id": "ac30d1fa",
   "metadata": {},
   "outputs": [
    {
     "name": "stdout",
     "output_type": "stream",
     "text": [
      "John\n",
      "36\n"
     ]
    }
   ],
   "source": [
    "p1 = Person(\"John\", 36)\n",
    "\n",
    "print(p1.name)\n",
    "print(p1.age)"
   ]
  },
  {
   "cell_type": "code",
   "execution_count": 7,
   "id": "3b174359",
   "metadata": {},
   "outputs": [],
   "source": [
    "class Car:\n",
    "    def __init__(self,name,model,engineType):\n",
    "        self.name=name\n",
    "        self.model=model\n",
    "        self.engineType=engineType"
   ]
  },
  {
   "cell_type": "code",
   "execution_count": 9,
   "id": "6ea186eb",
   "metadata": {},
   "outputs": [],
   "source": [
    "car1=Car(\"Suzuki\",2022,\"Petrol\")"
   ]
  },
  {
   "cell_type": "code",
   "execution_count": 10,
   "id": "9db5ab98",
   "metadata": {},
   "outputs": [
    {
     "data": {
      "text/plain": [
       "'Petrol'"
      ]
     },
     "execution_count": 10,
     "metadata": {},
     "output_type": "execute_result"
    }
   ],
   "source": [
    "car1.engineType"
   ]
  },
  {
   "cell_type": "code",
   "execution_count": 11,
   "id": "e841d838",
   "metadata": {},
   "outputs": [
    {
     "data": {
      "text/plain": [
       "2022"
      ]
     },
     "execution_count": 11,
     "metadata": {},
     "output_type": "execute_result"
    }
   ],
   "source": [
    "car1.model"
   ]
  },
  {
   "cell_type": "code",
   "execution_count": 12,
   "id": "a34bfa9f",
   "metadata": {},
   "outputs": [
    {
     "data": {
      "text/plain": [
       "'Suzuki'"
      ]
     },
     "execution_count": 12,
     "metadata": {},
     "output_type": "execute_result"
    }
   ],
   "source": [
    "car1.name"
   ]
  },
  {
   "cell_type": "code",
   "execution_count": 13,
   "id": "6baef4c7",
   "metadata": {},
   "outputs": [
    {
     "name": "stdout",
     "output_type": "stream",
     "text": [
      "John(36)\n"
     ]
    }
   ],
   "source": [
    "class Person:\n",
    "  def __init__(self, name, age):\n",
    "    self.name = name\n",
    "    self.age = age\n",
    "\n",
    "  def __str__(self):\n",
    "    return f\"{self.name}({self.age})\"\n",
    "\n",
    "p1 = Person(\"John\", 36)\n",
    "\n",
    "print(p1)"
   ]
  },
  {
   "cell_type": "code",
   "execution_count": 16,
   "id": "24d5ca15",
   "metadata": {},
   "outputs": [],
   "source": [
    "class Person:\n",
    "  def __init__(self, name, age):\n",
    "    self.name = name\n",
    "    self.age = age\n",
    "\n",
    "  def myfunc(self):\n",
    "    print(\"Hello my name is \" + self.name)\n",
    "\n",
    "p1 = Person(\"John\", 36)\n",
    "#p1.myfunc()\n"
   ]
  },
  {
   "cell_type": "code",
   "execution_count": 23,
   "id": "3584db8a",
   "metadata": {},
   "outputs": [],
   "source": [
    "class Person:\n",
    "  def __init__(self, name, age):\n",
    "    self.name = name\n",
    "    self.age = age\n",
    "\n",
    "  def myfunc(self):\n",
    "    print(\"Hello my name is \" + self.name + \"my age is \"+ str(self.age))\n",
    "\n",
    "p1 = Person(\"John\", 36)"
   ]
  },
  {
   "cell_type": "code",
   "execution_count": 24,
   "id": "0ad32e76",
   "metadata": {},
   "outputs": [
    {
     "name": "stdout",
     "output_type": "stream",
     "text": [
      "Hello my name is Johnmy age is 36\n"
     ]
    }
   ],
   "source": [
    "p1.myfunc()"
   ]
  },
  {
   "cell_type": "code",
   "execution_count": 34,
   "id": "851cd3ed",
   "metadata": {},
   "outputs": [],
   "source": [
    "class Mobile():\n",
    "    def __init__(mobile, name,ram,rom,camera,battery):\n",
    "        mobile.name=name\n",
    "        mobile.ram=ram\n",
    "        mobile.rom=rom\n",
    "        mobile.camera=camera\n",
    "        mobile.battery=battery\n",
    "    def myFunc(mobile):\n",
    "        print(\"your mobile ram is \"+ mobile.ram)"
   ]
  },
  {
   "cell_type": "code",
   "execution_count": 35,
   "id": "e307cc24",
   "metadata": {},
   "outputs": [],
   "source": [
    "m1=Mobile(\"Samsung\",\"4GB\",\"128GB\",\"48M\",\"6000mah\")"
   ]
  },
  {
   "cell_type": "code",
   "execution_count": 39,
   "id": "340316db",
   "metadata": {},
   "outputs": [
    {
     "name": "stdout",
     "output_type": "stream",
     "text": [
      "your mobile ram is 8gb\n"
     ]
    }
   ],
   "source": [
    "m1.myFunc()"
   ]
  },
  {
   "cell_type": "code",
   "execution_count": 37,
   "id": "ab846912",
   "metadata": {},
   "outputs": [
    {
     "data": {
      "text/plain": [
       "'4GB'"
      ]
     },
     "execution_count": 37,
     "metadata": {},
     "output_type": "execute_result"
    }
   ],
   "source": [
    "m1.ram"
   ]
  },
  {
   "cell_type": "code",
   "execution_count": 38,
   "id": "fa59ef36",
   "metadata": {},
   "outputs": [],
   "source": [
    "m1.ram=\"8gb\""
   ]
  },
  {
   "cell_type": "code",
   "execution_count": 40,
   "id": "d39ba73e",
   "metadata": {},
   "outputs": [],
   "source": [
    "del m1.ram"
   ]
  },
  {
   "cell_type": "code",
   "execution_count": 42,
   "id": "aaaec4d7",
   "metadata": {},
   "outputs": [
    {
     "ename": "AttributeError",
     "evalue": "'Mobile' object has no attribute 'ram'",
     "output_type": "error",
     "traceback": [
      "\u001b[1;31m---------------------------------------------------------------------------\u001b[0m",
      "\u001b[1;31mAttributeError\u001b[0m                            Traceback (most recent call last)",
      "\u001b[1;32m~\\AppData\\Local\\Temp\\ipykernel_14004\\1034707338.py\u001b[0m in \u001b[0;36m<module>\u001b[1;34m\u001b[0m\n\u001b[1;32m----> 1\u001b[1;33m \u001b[0mm1\u001b[0m\u001b[1;33m.\u001b[0m\u001b[0mmyFunc\u001b[0m\u001b[1;33m(\u001b[0m\u001b[1;33m)\u001b[0m\u001b[1;33m\u001b[0m\u001b[1;33m\u001b[0m\u001b[0m\n\u001b[0m",
      "\u001b[1;32m~\\AppData\\Local\\Temp\\ipykernel_14004\\3470114831.py\u001b[0m in \u001b[0;36mmyFunc\u001b[1;34m(mobile)\u001b[0m\n\u001b[0;32m      7\u001b[0m         \u001b[0mmobile\u001b[0m\u001b[1;33m.\u001b[0m\u001b[0mbattery\u001b[0m\u001b[1;33m=\u001b[0m\u001b[0mbattery\u001b[0m\u001b[1;33m\u001b[0m\u001b[1;33m\u001b[0m\u001b[0m\n\u001b[0;32m      8\u001b[0m     \u001b[1;32mdef\u001b[0m \u001b[0mmyFunc\u001b[0m\u001b[1;33m(\u001b[0m\u001b[0mmobile\u001b[0m\u001b[1;33m)\u001b[0m\u001b[1;33m:\u001b[0m\u001b[1;33m\u001b[0m\u001b[1;33m\u001b[0m\u001b[0m\n\u001b[1;32m----> 9\u001b[1;33m         \u001b[0mprint\u001b[0m\u001b[1;33m(\u001b[0m\u001b[1;34m\"your mobile ram is \"\u001b[0m\u001b[1;33m+\u001b[0m \u001b[0mmobile\u001b[0m\u001b[1;33m.\u001b[0m\u001b[0mram\u001b[0m\u001b[1;33m)\u001b[0m\u001b[1;33m\u001b[0m\u001b[1;33m\u001b[0m\u001b[0m\n\u001b[0m",
      "\u001b[1;31mAttributeError\u001b[0m: 'Mobile' object has no attribute 'ram'"
     ]
    }
   ],
   "source": [
    "m1.myFunc()"
   ]
  },
  {
   "cell_type": "code",
   "execution_count": 43,
   "id": "ba967e25",
   "metadata": {},
   "outputs": [
    {
     "name": "stdout",
     "output_type": "stream",
     "text": [
      "Hi, I'm Alice, 28 years old, from New York.\n",
      "Hi, I'm Bob, 35 years old, from San Francisco.\n",
      "Happy birthday to Alice! They are now 29 years old.\n",
      "Happy birthday to Bob! They are now 36 years old.\n"
     ]
    }
   ],
   "source": [
    "class Person:\n",
    "    def __init__(self, name, age, location):\n",
    "        self.name = name\n",
    "        self.age = age\n",
    "        self.location = location\n",
    "\n",
    "    def introduce(self):\n",
    "        print(f\"Hi, I'm {self.name}, {self.age} years old, from {self.location}.\")\n",
    "\n",
    "    def celebrate_birthday(self):\n",
    "        self.age += 1\n",
    "        print(f\"Happy birthday to {self.name}! They are now {self.age} years old.\")\n",
    "\n",
    "# Creating instances of the Person class\n",
    "person1 = Person(\"Alice\", 28, \"New York\")\n",
    "person2 = Person(\"Bob\", 35, \"San Francisco\")\n",
    "\n",
    "# Introducing themselves\n",
    "person1.introduce()\n",
    "person2.introduce()\n",
    "\n",
    "# Celebrating birthdays\n",
    "person1.celebrate_birthday()\n",
    "person2.celebrate_birthday()\n"
   ]
  },
  {
   "cell_type": "code",
   "execution_count": 44,
   "id": "f006786a",
   "metadata": {},
   "outputs": [],
   "source": [
    "class Person:\n",
    "    def __init__(self,name,age,location):\n",
    "        self.name=name\n",
    "        self.age=age\n",
    "        self.location=location\n",
    "    def intoduced(self):\n",
    "        print(f\" Hi, I'm {self.name} , I'am {self.age} years old and from {self.location}\")"
   ]
  },
  {
   "cell_type": "code",
   "execution_count": 45,
   "id": "f99e4e18",
   "metadata": {},
   "outputs": [],
   "source": [
    "person1=Person(\"Sanwal\",23,\"Faisalabad\")"
   ]
  },
  {
   "cell_type": "code",
   "execution_count": 46,
   "id": "0623b737",
   "metadata": {},
   "outputs": [
    {
     "name": "stdout",
     "output_type": "stream",
     "text": [
      " Hi, I'm Sanwal , I'am 23 years old and from Faisalabad\n"
     ]
    }
   ],
   "source": [
    "person1.intoduced()"
   ]
  },
  {
   "cell_type": "code",
   "execution_count": 61,
   "id": "1bf2d685",
   "metadata": {},
   "outputs": [],
   "source": [
    "class Bank:\n",
    "    def __init__(self,account_num,account_holder,balance=0):\n",
    "        self.account_num=account_num\n",
    "        self.account_holder=account_holder\n",
    "        self.balance=balance\n",
    "\n",
    "    def deposit(self,amount):\n",
    "        \n",
    "        self.balance +=amount\n",
    "        print(f\"Deposit amount is {self.amount} and New balance is {self.balance}\")\n",
    "    def withdraw(self,amount):\n",
    "        if self.amount<=self.balance:\n",
    "            self.balance -=amount\n",
    "            print(f\"Withdraw amount is {self.amount} and new balance is {self.balance}\")\n",
    "        else:\n",
    "            print(\"Insufficient funds.\")\n",
    "    def check_balance(self):\n",
    "            return self.balance\n"
   ]
  },
  {
   "cell_type": "code",
   "execution_count": 62,
   "id": "92dc7068",
   "metadata": {},
   "outputs": [],
   "source": [
    "cus1=Bank(1234,\"Sanwal\")"
   ]
  },
  {
   "cell_type": "code",
   "execution_count": 63,
   "id": "e565ad75",
   "metadata": {},
   "outputs": [
    {
     "ename": "AttributeError",
     "evalue": "'Bank' object has no attribute 'amount'",
     "output_type": "error",
     "traceback": [
      "\u001b[1;31m---------------------------------------------------------------------------\u001b[0m",
      "\u001b[1;31mAttributeError\u001b[0m                            Traceback (most recent call last)",
      "\u001b[1;32m~\\AppData\\Local\\Temp\\ipykernel_14004\\4230661181.py\u001b[0m in \u001b[0;36m<module>\u001b[1;34m\u001b[0m\n\u001b[1;32m----> 1\u001b[1;33m \u001b[0mcus1\u001b[0m\u001b[1;33m.\u001b[0m\u001b[0mdeposit\u001b[0m\u001b[1;33m(\u001b[0m\u001b[1;36m2000\u001b[0m\u001b[1;33m)\u001b[0m\u001b[1;33m\u001b[0m\u001b[1;33m\u001b[0m\u001b[0m\n\u001b[0m",
      "\u001b[1;32m~\\AppData\\Local\\Temp\\ipykernel_14004\\2759246638.py\u001b[0m in \u001b[0;36mdeposit\u001b[1;34m(self, amount)\u001b[0m\n\u001b[0;32m      8\u001b[0m \u001b[1;33m\u001b[0m\u001b[0m\n\u001b[0;32m      9\u001b[0m         \u001b[0mself\u001b[0m\u001b[1;33m.\u001b[0m\u001b[0mbalance\u001b[0m \u001b[1;33m+=\u001b[0m\u001b[0mamount\u001b[0m\u001b[1;33m\u001b[0m\u001b[1;33m\u001b[0m\u001b[0m\n\u001b[1;32m---> 10\u001b[1;33m         \u001b[0mprint\u001b[0m\u001b[1;33m(\u001b[0m\u001b[1;34mf\"Deposit amount is {self.amount} and New balance is {self.balance}\"\u001b[0m\u001b[1;33m)\u001b[0m\u001b[1;33m\u001b[0m\u001b[1;33m\u001b[0m\u001b[0m\n\u001b[0m\u001b[0;32m     11\u001b[0m     \u001b[1;32mdef\u001b[0m \u001b[0mwithdraw\u001b[0m\u001b[1;33m(\u001b[0m\u001b[0mself\u001b[0m\u001b[1;33m,\u001b[0m\u001b[0mamount\u001b[0m\u001b[1;33m)\u001b[0m\u001b[1;33m:\u001b[0m\u001b[1;33m\u001b[0m\u001b[1;33m\u001b[0m\u001b[0m\n\u001b[0;32m     12\u001b[0m         \u001b[1;32mif\u001b[0m \u001b[0mself\u001b[0m\u001b[1;33m.\u001b[0m\u001b[0mamount\u001b[0m\u001b[1;33m<=\u001b[0m\u001b[0mself\u001b[0m\u001b[1;33m.\u001b[0m\u001b[0mbalance\u001b[0m\u001b[1;33m:\u001b[0m\u001b[1;33m\u001b[0m\u001b[1;33m\u001b[0m\u001b[0m\n",
      "\u001b[1;31mAttributeError\u001b[0m: 'Bank' object has no attribute 'amount'"
     ]
    }
   ],
   "source": [
    "cus1.deposit(2000)"
   ]
  },
  {
   "cell_type": "code",
   "execution_count": null,
   "id": "7bfb0a50",
   "metadata": {},
   "outputs": [],
   "source": []
  }
 ],
 "metadata": {
  "kernelspec": {
   "display_name": "Python 3 (ipykernel)",
   "language": "python",
   "name": "python3"
  },
  "language_info": {
   "codemirror_mode": {
    "name": "ipython",
    "version": 3
   },
   "file_extension": ".py",
   "mimetype": "text/x-python",
   "name": "python",
   "nbconvert_exporter": "python",
   "pygments_lexer": "ipython3",
   "version": "3.9.13"
  }
 },
 "nbformat": 4,
 "nbformat_minor": 5
}
