{
 "cells": [
  {
   "cell_type": "code",
   "execution_count": 1,
   "id": "2579b912",
   "metadata": {},
   "outputs": [],
   "source": []
  },
  {
   "cell_type": "code",
   "execution_count": 5,
   "id": "dbdc6035",
   "metadata": {},
   "outputs": [],
   "source": [
    "class Person:\n",
    "  def __init__(self, name, age):\n",
    "    self.name = name\n",
    "    self.age = age\n",
    "\n"
   ]
  },
  {
   "cell_type": "code",
   "execution_count": 6,
   "id": "73d9e23c",
   "metadata": {},
   "outputs": [
    {
     "name": "stdout",
     "output_type": "stream",
     "text": [
      "John\n",
      "36\n"
     ]
    }
   ],
   "source": [
    "p1 = Person(\"John\", 36)\n",
    "\n",
    "print(p1.name)\n",
    "print(p1.age)"
   ]
  },
  {
   "cell_type": "code",
   "execution_count": 7,
   "id": "70831c60",
   "metadata": {},
   "outputs": [],
   "source": [
    "class Car:\n",
    "    def __init__(self,name,model,engineType):\n",
    "        self.name=name\n",
    "        self.model=model\n",
    "        self.engineType=engineType"
   ]
  },
  {
   "cell_type": "code",
   "execution_count": 9,
   "id": "b8d8b44f",
   "metadata": {},
   "outputs": [],
   "source": [
    "car1=Car(\"Suzuki\",2022,\"Petrol\")"
   ]
  },
  {
   "cell_type": "code",
   "execution_count": 10,
   "id": "c3839322",
   "metadata": {},
   "outputs": [
    {
     "data": {
      "text/plain": [
       "'Petrol'"
      ]
     },
     "execution_count": 10,
     "metadata": {},
     "output_type": "execute_result"
    }
   ],
   "source": [
    "car1.engineType"
   ]
  },
  {
   "cell_type": "code",
   "execution_count": 11,
   "id": "f0b1d6ac",
   "metadata": {},
   "outputs": [
    {
     "data": {
      "text/plain": [
       "2022"
      ]
     },
     "execution_count": 11,
     "metadata": {},
     "output_type": "execute_result"
    }
   ],
   "source": [
    "car1.model"
   ]
  },
  {
   "cell_type": "code",
   "execution_count": 12,
   "id": "5c99214e",
   "metadata": {},
   "outputs": [
    {
     "data": {
      "text/plain": [
       "'Suzuki'"
      ]
     },
     "execution_count": 12,
     "metadata": {},
     "output_type": "execute_result"
    }
   ],
   "source": [
    "car1.name"
   ]
  },
  {
   "cell_type": "code",
   "execution_count": 13,
   "id": "ecc2d6d6",
   "metadata": {},
   "outputs": [
    {
     "name": "stdout",
     "output_type": "stream",
     "text": [
      "John(36)\n"
     ]
    }
   ],
   "source": [
    "class Person:\n",
    "  def __init__(self, name, age):\n",
    "    self.name = name\n",
    "    self.age = age\n",
    "\n",
    "  def __str__(self):\n",
    "    return f\"{self.name}({self.age})\"\n",
    "\n",
    "p1 = Person(\"John\", 36)\n",
    "\n",
    "print(p1)"
   ]
  },
  {
   "cell_type": "code",
   "execution_count": 16,
   "id": "ccf0f2f7",
   "metadata": {},
   "outputs": [],
   "source": [
    "class Person:\n",
    "  def __init__(self, name, age):\n",
    "    self.name = name\n",
    "    self.age = age\n",
    "\n",
    "  def myfunc(self):\n",
    "    print(\"Hello my name is \" + self.name)\n",
    "\n",
    "p1 = Person(\"John\", 36)\n",
    "#p1.myfunc()\n"
   ]
  },
  {
   "cell_type": "code",
   "execution_count": 23,
   "id": "8a4c7dec",
   "metadata": {},
   "outputs": [],
   "source": [
    "class Person:\n",
    "  def __init__(self, name, age):\n",
    "    self.name = name\n",
    "    self.age = age\n",
    "\n",
    "  def myfunc(self):\n",
    "    print(\"Hello my name is \" + self.name + \"my age is \"+ str(self.age))\n",
    "\n",
    "p1 = Person(\"John\", 36)"
   ]
  },
  {
   "cell_type": "code",
   "execution_count": 24,
   "id": "64b9cd6c",
   "metadata": {},
   "outputs": [
    {
     "name": "stdout",
     "output_type": "stream",
     "text": [
      "Hello my name is Johnmy age is 36\n"
     ]
    }
   ],
   "source": [
    "p1.myfunc()"
   ]
  },
  {
   "cell_type": "code",
   "execution_count": 34,
   "id": "36bfd196",
   "metadata": {},
   "outputs": [],
   "source": [
    "class Mobile():\n",
    "    def __init__(mobile, name,ram,rom,camera,battery):\n",
    "        mobile.name=name\n",
    "        mobile.ram=ram\n",
    "        mobile.rom=rom\n",
    "        mobile.camera=camera\n",
    "        mobile.battery=battery\n",
    "    def myFunc(mobile):\n",
    "        print(\"your mobile ram is \"+ mobile.ram)"
   ]
  },
  {
   "cell_type": "code",
   "execution_count": 35,
   "id": "660ad73b",
   "metadata": {},
   "outputs": [],
   "source": [
    "m1=Mobile(\"Samsung\",\"4GB\",\"128GB\",\"48M\",\"6000mah\")"
   ]
  },
  {
   "cell_type": "code",
   "execution_count": 39,
   "id": "938212c9",
   "metadata": {},
   "outputs": [
    {
     "name": "stdout",
     "output_type": "stream",
     "text": [
      "your mobile ram is 8gb\n"
     ]
    }
   ],
   "source": [
    "m1.myFunc()"
   ]
  },
  {
   "cell_type": "code",
   "execution_count": 37,
   "id": "b6cb8de7",
   "metadata": {},
   "outputs": [
    {
     "data": {
      "text/plain": [
       "'4GB'"
      ]
     },
     "execution_count": 37,
     "metadata": {},
     "output_type": "execute_result"
    }
   ],
   "source": [
    "m1.ram"
   ]
  },
  {
   "cell_type": "code",
   "execution_count": 38,
   "id": "5061f634",
   "metadata": {},
   "outputs": [],
   "source": [
    "m1.ram=\"8gb\""
   ]
  },
  {
   "cell_type": "code",
   "execution_count": 40,
   "id": "0110359c",
   "metadata": {},
   "outputs": [],
   "source": [
    "del m1.ram"
   ]
  },
  {
   "cell_type": "code",
   "execution_count": 42,
   "id": "717769d6",
   "metadata": {},
   "outputs": [
    {
     "ename": "AttributeError",
     "evalue": "'Mobile' object has no attribute 'ram'",
     "output_type": "error",
     "traceback": [
      "\u001b[1;31m---------------------------------------------------------------------------\u001b[0m",
      "\u001b[1;31mAttributeError\u001b[0m                            Traceback (most recent call last)",
      "\u001b[1;32m~\\AppData\\Local\\Temp\\ipykernel_14004\\1034707338.py\u001b[0m in \u001b[0;36m<module>\u001b[1;34m\u001b[0m\n\u001b[1;32m----> 1\u001b[1;33m \u001b[0mm1\u001b[0m\u001b[1;33m.\u001b[0m\u001b[0mmyFunc\u001b[0m\u001b[1;33m(\u001b[0m\u001b[1;33m)\u001b[0m\u001b[1;33m\u001b[0m\u001b[1;33m\u001b[0m\u001b[0m\n\u001b[0m",
      "\u001b[1;32m~\\AppData\\Local\\Temp\\ipykernel_14004\\3470114831.py\u001b[0m in \u001b[0;36mmyFunc\u001b[1;34m(mobile)\u001b[0m\n\u001b[0;32m      7\u001b[0m         \u001b[0mmobile\u001b[0m\u001b[1;33m.\u001b[0m\u001b[0mbattery\u001b[0m\u001b[1;33m=\u001b[0m\u001b[0mbattery\u001b[0m\u001b[1;33m\u001b[0m\u001b[1;33m\u001b[0m\u001b[0m\n\u001b[0;32m      8\u001b[0m     \u001b[1;32mdef\u001b[0m \u001b[0mmyFunc\u001b[0m\u001b[1;33m(\u001b[0m\u001b[0mmobile\u001b[0m\u001b[1;33m)\u001b[0m\u001b[1;33m:\u001b[0m\u001b[1;33m\u001b[0m\u001b[1;33m\u001b[0m\u001b[0m\n\u001b[1;32m----> 9\u001b[1;33m         \u001b[0mprint\u001b[0m\u001b[1;33m(\u001b[0m\u001b[1;34m\"your mobile ram is \"\u001b[0m\u001b[1;33m+\u001b[0m \u001b[0mmobile\u001b[0m\u001b[1;33m.\u001b[0m\u001b[0mram\u001b[0m\u001b[1;33m)\u001b[0m\u001b[1;33m\u001b[0m\u001b[1;33m\u001b[0m\u001b[0m\n\u001b[0m",
      "\u001b[1;31mAttributeError\u001b[0m: 'Mobile' object has no attribute 'ram'"
     ]
    }
   ],
   "source": [
    "m1.myFunc()"
   ]
  },
  {
   "cell_type": "code",
   "execution_count": 43,
   "id": "745e0533",
   "metadata": {},
   "outputs": [
    {
     "name": "stdout",
     "output_type": "stream",
     "text": [
      "Hi, I'm Alice, 28 years old, from New York.\n",
      "Hi, I'm Bob, 35 years old, from San Francisco.\n",
      "Happy birthday to Alice! They are now 29 years old.\n",
      "Happy birthday to Bob! They are now 36 years old.\n"
     ]
    }
   ],
   "source": [
    "class Person:\n",
    "    def __init__(self, name, age, location):\n",
    "        self.name = name\n",
    "        self.age = age\n",
    "        self.location = location\n",
    "\n",
    "    def introduce(self):\n",
    "        print(f\"Hi, I'm {self.name}, {self.age} years old, from {self.location}.\")\n",
    "\n",
    "    def celebrate_birthday(self):\n",
    "        self.age += 1\n",
    "        print(f\"Happy birthday to {self.name}! They are now {self.age} years old.\")\n",
    "\n",
    "# Creating instances of the Person class\n",
    "person1 = Person(\"Alice\", 28, \"New York\")\n",
    "person2 = Person(\"Bob\", 35, \"San Francisco\")\n",
    "\n",
    "# Introducing themselves\n",
    "person1.introduce()\n",
    "person2.introduce()\n",
    "\n",
    "# Celebrating birthdays\n",
    "person1.celebrate_birthday()\n",
    "person2.celebrate_birthday()\n"
   ]
  },
  {
   "cell_type": "code",
   "execution_count": 44,
   "id": "3cb9dea3",
   "metadata": {},
   "outputs": [],
   "source": [
    "class Person:\n",
    "    def __init__(self,name,age,location):\n",
    "        self.name=name\n",
    "        self.age=age\n",
    "        self.location=location\n",
    "    def intoduced(self):\n",
    "        print(f\" Hi, I'm {self.name} , I'am {self.age} years old and from {self.location}\")"
   ]
  },
  {
   "cell_type": "code",
   "execution_count": 45,
   "id": "5f7663f4",
   "metadata": {},
   "outputs": [],
   "source": [
    "person1=Person(\"Sanwal\",23,\"Faisalabad\")"
   ]
  },
  {
   "cell_type": "code",
   "execution_count": 46,
   "id": "f23a7d65",
   "metadata": {},
   "outputs": [
    {
     "name": "stdout",
     "output_type": "stream",
     "text": [
      " Hi, I'm Sanwal , I'am 23 years old and from Faisalabad\n"
     ]
    }
   ],
   "source": [
    "person1.intoduced()"
   ]
  },
  {
   "cell_type": "code",
   "execution_count": 73,
   "id": "84c7435f",
   "metadata": {},
   "outputs": [],
   "source": [
    "class Bank:\n",
    "    def __init__(self,account_num,account_holder,balance=0):\n",
    "        self.account_num=account_num\n",
    "        self.account_holder=account_holder\n",
    "        self.balance=balance\n",
    "\n",
    "    def deposit(self,amount):\n",
    "        self.balance +=amount\n",
    "        print(f\"Deposit amount is {amount} and New balance is {self.balance}\")\n",
    "    def withdraw(self,amount):\n",
    "        if amount<=self.balance:\n",
    "            self.balance -=amount\n",
    "            print(f\"Withdraw amount is {amount} and new balance is {self.balance}\")\n",
    "        else:\n",
    "            print(\"Insufficient funds.\")\n",
    "    def check_balance(self):\n",
    "            return self.balance\n"
   ]
  },
  {
   "cell_type": "code",
   "execution_count": 74,
   "id": "9fb541a3",
   "metadata": {},
   "outputs": [],
   "source": [
    "cus1=Bank(1234,\"Sanwal\")"
   ]
  },
  {
   "cell_type": "code",
   "execution_count": 75,
   "id": "ceb4a84f",
   "metadata": {},
   "outputs": [
    {
     "name": "stdout",
     "output_type": "stream",
     "text": [
      "Deposit amount is 2000 and New balance is 2000\n"
     ]
    }
   ],
   "source": [
    "cus1.deposit(2000)"
   ]
  },
  {
   "cell_type": "code",
   "execution_count": 76,
   "id": "0a684e5e",
   "metadata": {},
   "outputs": [
    {
     "name": "stdout",
     "output_type": "stream",
     "text": [
      "Withdraw amount is 500 and new balance is 1500\n"
     ]
    }
   ],
   "source": [
    "cus1.withdraw(500)"
   ]
  },
  {
   "cell_type": "code",
   "execution_count": 78,
   "id": "1d11e3ee",
   "metadata": {},
   "outputs": [
    {
     "data": {
      "text/plain": [
       "1500"
      ]
     },
     "execution_count": 78,
     "metadata": {},
     "output_type": "execute_result"
    }
   ],
   "source": [
    "cus1.check_balance()"
   ]
  },
  {
   "cell_type": "code",
   "execution_count": 79,
   "id": "0e89e5ad",
   "metadata": {},
   "outputs": [],
   "source": [
    "class Health:\n",
    "    def __init__(self,name,age,gender,diabaties,blood):\n",
    "        self.name=name\n",
    "        self.age=age\n",
    "        self.gender=gender\n",
    "        self.diabaties=diabaties\n",
    "        self.blood=blood\n",
    "    "
   ]
  },
  {
   "cell_type": "code",
   "execution_count": 80,
   "id": "d36ac7a2",
   "metadata": {},
   "outputs": [
    {
     "data": {
      "text/plain": [
       "'\"Define the attributes for accounts, customers, transactions, and loans.\\nConsider methods for depositing, withdrawing, and calculating interest.\\n'"
      ]
     },
     "execution_count": 80,
     "metadata": {},
     "output_type": "execute_result"
    }
   ],
   "source": [
    "\"\"\"\"Define the attributes for accounts, customers, transactions, and loans.\n",
    "Consider methods for depositing, withdrawing, and calculating interest.\n",
    "\"\"\""
   ]
  },
  {
   "cell_type": "code",
   "execution_count": 121,
   "id": "6abb3239",
   "metadata": {},
   "outputs": [],
   "source": [
    "class Bank():\n",
    "    def __init__(self,account_num,name,balance=0):\n",
    "        self.account_num=account_num\n",
    "        self.name=name\n",
    "        self.balance=balance\n",
    "    def deposit(self,amount):\n",
    "        self.balance+=amount\n",
    "        print(f\"Your Balanced is {self.balance}!\")\n",
    "        print(f\"Thanks for deposit Dear {self.name}\")\n",
    "    def withDraw(self,amount):\n",
    "        if amount<=self.balance:\n",
    "            self.balance-=amount\n",
    "            print(f\"your withdraw amount is {amount} and remaining balance is {self.balance}\")\n",
    "    def loan(self,amount):\n",
    "        if amount<=self.balance:\n",
    "            interest=amount*.2\n",
    "            print(f\"your loan amount is {amount} and interest on loan is {interest}\")\n",
    "        else:\n",
    "            print(f\"Please request loan to amount that present in your accoun.\\nYour balance is {self.balance}\")\n",
    "    def balance():\n",
    "        return self.balance"
   ]
  },
  {
   "cell_type": "code",
   "execution_count": 112,
   "id": "3d74818a",
   "metadata": {},
   "outputs": [],
   "source": [
    "person=Bank(1234,\"Sanwal\")"
   ]
  },
  {
   "cell_type": "code",
   "execution_count": 113,
   "id": "c385aa46",
   "metadata": {},
   "outputs": [
    {
     "name": "stdout",
     "output_type": "stream",
     "text": [
      "Your Balanced is 20000!\n"
     ]
    }
   ],
   "source": [
    "person.deposit(20000)"
   ]
  },
  {
   "cell_type": "code",
   "execution_count": 114,
   "id": "63781240",
   "metadata": {},
   "outputs": [
    {
     "name": "stdout",
     "output_type": "stream",
     "text": [
      "your withdraw amount is 1000 and remaining balance is 19000\n"
     ]
    }
   ],
   "source": [
    "person.withDraw(1000)"
   ]
  },
  {
   "cell_type": "code",
   "execution_count": 115,
   "id": "12907c92",
   "metadata": {},
   "outputs": [
    {
     "name": "stdout",
     "output_type": "stream",
     "text": [
      "Please request loan to amount that present in your accoun.\n",
      "Your balance is 19000\n"
     ]
    }
   ],
   "source": [
    "person.loan(23000)"
   ]
  },
  {
   "cell_type": "code",
   "execution_count": 116,
   "id": "b245f0a3",
   "metadata": {},
   "outputs": [
    {
     "data": {
      "text/plain": [
       "19000"
      ]
     },
     "execution_count": 116,
     "metadata": {},
     "output_type": "execute_result"
    }
   ],
   "source": [
    "person.balance"
   ]
  },
  {
   "cell_type": "code",
   "execution_count": 122,
   "id": "6c9f1329",
   "metadata": {},
   "outputs": [],
   "source": [
    "person2=Bank(2222,\"Ahmad\")"
   ]
  },
  {
   "cell_type": "code",
   "execution_count": 123,
   "id": "748a73a9",
   "metadata": {},
   "outputs": [
    {
     "name": "stdout",
     "output_type": "stream",
     "text": [
      "Your Balanced is 27500!\n",
      "Thanks for deposit Dear Ahmad\n"
     ]
    }
   ],
   "source": [
    "person2.deposit(27500)"
   ]
  },
  {
   "cell_type": "code",
   "execution_count": null,
   "id": "662004db",
   "metadata": {},
   "outputs": [],
   "source": []
  }
 ],
 "metadata": {
  "kernelspec": {
   "display_name": "Python 3 (ipykernel)",
   "language": "python",
   "name": "python3"
  },
  "language_info": {
   "codemirror_mode": {
    "name": "ipython",
    "version": 3
   },
   "file_extension": ".py",
   "mimetype": "text/x-python",
   "name": "python",
   "nbconvert_exporter": "python",
   "pygments_lexer": "ipython3",
   "version": "3.9.13"
  }
 },
 "nbformat": 4,
 "nbformat_minor": 5
}
